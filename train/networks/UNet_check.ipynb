{
 "cells": [
  {
   "cell_type": "code",
   "execution_count": 3,
   "metadata": {},
   "outputs": [],
   "source": [
    "import torch\n",
    "from torch import nn\n",
    "import torch.nn.functional as F"
   ]
  },
  {
   "cell_type": "code",
   "execution_count": 5,
   "metadata": {},
   "outputs": [],
   "source": [
    "class UNet_check(nn.Module):\n",
    "    def __init__(self, in_channels=3, n_classes=2):\n",
    "        super(UNet_check, self).__init__()\n",
    "\n",
    "        down1 = []\n",
    "        down1.append(nn.Conv2d(in_channels, 64, kernel_size=3, padding=0))\n",
    "        down1.append(nn.ReLU())\n",
    "        down1.append(nn.BatchNorm2d(64))\n",
    "        down1.append(nn.Conv2d(64, 64, kernel_size=3, padding=0))\n",
    "        down1.append(nn.ReLU())\n",
    "        down1.append(nn.BatchNorm2d(64))\n",
    "        self.down1 = nn.Sequential(*down1)\n",
    "        \n",
    "        down2 = []\n",
    "        down2.append(nn.Conv2d(64, 128, kernel_size=3, padding=0))\n",
    "        down2.append(nn.ReLU())\n",
    "        down2.append(nn.BatchNorm2d(128))\n",
    "        down2.append(nn.Conv2d(128, 128, kernel_size=3, padding=0))\n",
    "        down2.append(nn.ReLU())\n",
    "        down2.append(nn.BatchNorm2d(128))\n",
    "        self.down2 = nn.Sequential(*down2)\n",
    "        \n",
    "        down3 = []\n",
    "        down3.append(nn.Conv2d(128, 256, kernel_size=3, padding=0))\n",
    "        down3.append(nn.ReLU())\n",
    "        down3.append(nn.BatchNorm2d(256))\n",
    "        down3.append(nn.Conv2d(256, 256, kernel_size=3, padding=0))\n",
    "        down3.append(nn.ReLU())\n",
    "        down3.append(nn.BatchNorm2d(256))\n",
    "        self.down3 = nn.Sequential(*down3)\n",
    "        \n",
    "        down4 = []\n",
    "        down4.append(nn.Conv2d(256, 512, kernel_size=3, padding=0))\n",
    "        down4.append(nn.ReLU())\n",
    "        down4.append(nn.BatchNorm2d(512))\n",
    "        down4.append(nn.Conv2d(512, 512, kernel_size=3, padding=0))\n",
    "        down4.append(nn.ReLU())\n",
    "        down4.append(nn.BatchNorm2d(512))\n",
    "        self.down4 = nn.Sequential(*down4)\n",
    "        \n",
    "        down5 = []\n",
    "        down5.append(nn.Conv2d(512, 1024, kernel_size=3, padding=0))\n",
    "        down5.append(nn.ReLU())\n",
    "        down5.append(nn.BatchNorm2d(1024))\n",
    "        down5.append(nn.Conv2d(1024, 1024, kernel_size=3, padding=0))\n",
    "        down5.append(nn.ReLU())\n",
    "        down5.append(nn.BatchNorm2d(1024))\n",
    "        self.down5 = nn.Sequential(*down5)\n",
    "        \n",
    "        self.up4_x = nn.ConvTranspose2d(1024, 512, kernel_size=2, stride=2)\n",
    "        up4 = []\n",
    "        up4.append(nn.Conv2d(1024, 512, kernel_size=3, padding=0))\n",
    "        up4.append(nn.ReLU())\n",
    "        up4.append(nn.BatchNorm2d(512))\n",
    "        up4.append(nn.Conv2d(512, 512, kernel_size=3, padding=0))\n",
    "        up4.append(nn.ReLU())\n",
    "        up4.append(nn.BatchNorm2d(512))\n",
    "        self.up4 = nn.Sequential(*up4)\n",
    "        \n",
    "        self.up3_x = nn.ConvTranspose2d(512, 256, kernel_size=2, stride=2)\n",
    "        up3 = []\n",
    "        up3.append(nn.Conv2d(512, 256, kernel_size=3, padding=0))\n",
    "        up3.append(nn.ReLU())\n",
    "        up3.append(nn.BatchNorm2d(256))\n",
    "        up3.append(nn.Conv2d(256, 256, kernel_size=3, padding=0))\n",
    "        up3.append(nn.ReLU())\n",
    "        up3.append(nn.BatchNorm2d(256))\n",
    "        self.up3 = nn.Sequential(*up3)\n",
    "        \n",
    "        self.up2_x = nn.ConvTranspose2d(256, 128, kernel_size=2, stride=2)\n",
    "        up2 = []\n",
    "        up2.append(nn.Conv2d(256, 128, kernel_size=3, padding=0))\n",
    "        up2.append(nn.ReLU())\n",
    "        up2.append(nn.BatchNorm2d(128))\n",
    "        up2.append(nn.Conv2d(128, 128, kernel_size=3, padding=0))\n",
    "        up2.append(nn.ReLU())\n",
    "        up2.append(nn.BatchNorm2d(128))\n",
    "        self.up2 = nn.Sequential(*up2)\n",
    "        \n",
    "        self.up1_x = nn.ConvTranspose2d(128, 64, kernel_size=2, stride=2)\n",
    "        up1 = []\n",
    "        up1.append(nn.Conv2d(128, 64, kernel_size=3, padding=0))\n",
    "        up1.append(nn.ReLU())\n",
    "        up1.append(nn.BatchNorm2d(64))\n",
    "        up1.append(nn.Conv2d(64, 64, kernel_size=3, padding=0))\n",
    "        up1.append(nn.ReLU())\n",
    "        up1.append(nn.BatchNorm2d(64))\n",
    "        self.up1 = nn.Sequential(*up1)\n",
    "        \n",
    "        self.last = nn.Conv2d(64, n_classes, kernel_size=1)\n",
    "\n",
    "    def center_crop(self, layer, target_size):\n",
    "        _, _, layer_height, layer_width = layer.size()\n",
    "        diff_y = (layer_height - target_size[0]) // 2\n",
    "        diff_x = (layer_width - target_size[1]) // 2\n",
    "        return layer[:, :, diff_y:(diff_y + target_size[0]), diff_x:(diff_x + target_size[1])]\n",
    "\n",
    "\n",
    "    def forward(self, x):\n",
    "        down1 = self.down1(x)\n",
    "        x = F.avg_pool2d(down1, 2)\n",
    "        \n",
    "        down2 = self.down2(x)\n",
    "        x = F.avg_pool2d(down2, 2)\n",
    "        \n",
    "        down3 = self.down3(x)\n",
    "        x = F.avg_pool2d(down3, 2)\n",
    "        \n",
    "        down4 = self.down4(x)\n",
    "        x = F.avg_pool2d(down4, 2)\n",
    "        \n",
    "        x = self.down5(x)\n",
    "        \n",
    "        x = self.up4_x(x)\n",
    "        crop4 = self.center_crop(down4, x.shape[2:])\n",
    "        x = torch.cat([x, crop4], 1)\n",
    "        x = self.up4(x)\n",
    "        \n",
    "        x = self.up3_x(x)\n",
    "        crop3 = self.center_crop(down3, x.shape[2:])\n",
    "        x = torch.cat([x, crop3], 1)\n",
    "        x = self.up3(x)\n",
    "        \n",
    "        x = self.up2_x(x)\n",
    "        crop2 = self.center_crop(down2, x.shape[2:])\n",
    "        x = torch.cat([x, crop2], 1)\n",
    "        x = self.up2(x)\n",
    "        \n",
    "        x = self.up1_x(x)\n",
    "        crop1 = self.center_crop(down1, x.shape[2:])\n",
    "        x = torch.cat([x, crop1], 1)\n",
    "        x = self.up1(x)\n",
    "        \n",
    "        x = self.last(x)\n",
    "    \n",
    "        return x\n"
   ]
  },
  {
   "cell_type": "code",
   "execution_count": 6,
   "metadata": {},
   "outputs": [],
   "source": [
    "model = UNet_check()"
   ]
  },
  {
   "cell_type": "code",
   "execution_count": 13,
   "metadata": {},
   "outputs": [],
   "source": [
    "output = model(image_572)"
   ]
  },
  {
   "cell_type": "code",
   "execution_count": 14,
   "metadata": {},
   "outputs": [
    {
     "data": {
      "text/plain": [
       "torch.Size([1, 2, 388, 388])"
      ]
     },
     "execution_count": 14,
     "metadata": {},
     "output_type": "execute_result"
    }
   ],
   "source": [
    "output.size()"
   ]
  },
  {
   "cell_type": "code",
   "execution_count": 15,
   "metadata": {},
   "outputs": [
    {
     "data": {
      "text/plain": [
       "tensor([[[[-2.1179, -2.1179, -2.1179,  ..., -2.1179, -2.1179, -2.1179],\n",
       "          [-2.1179, -2.1179, -2.1179,  ..., -2.1179, -2.1179, -2.1179],\n",
       "          [-2.1179, -2.1179, -2.1179,  ..., -2.1179, -2.1179, -2.1179],\n",
       "          ...,\n",
       "          [-0.8678, -0.9192, -0.9534,  ..., -0.9020, -0.9363, -1.1247],\n",
       "          [-0.8849, -0.9363, -0.9705,  ..., -0.8849, -0.9192, -1.0562],\n",
       "          [-0.9020, -0.9534, -0.9705,  ..., -0.9020, -0.9534, -1.0048]],\n",
       "\n",
       "         [[-2.0357, -2.0357, -2.0357,  ..., -2.0357, -2.0357, -2.0357],\n",
       "          [-2.0357, -2.0357, -2.0357,  ..., -2.0357, -2.0357, -2.0357],\n",
       "          [-2.0357, -2.0357, -2.0357,  ..., -2.0357, -2.0357, -2.0357],\n",
       "          ...,\n",
       "          [-0.7752, -0.8277, -0.8627,  ..., -0.7927, -0.8277, -1.0203],\n",
       "          [-0.7927, -0.8452, -0.8803,  ..., -0.7752, -0.8102, -0.9503],\n",
       "          [-0.8102, -0.8627, -0.8803,  ..., -0.7927, -0.8452, -0.8978]],\n",
       "\n",
       "         [[-1.8044, -1.8044, -1.8044,  ..., -1.8044, -1.8044, -1.8044],\n",
       "          [-1.8044, -1.8044, -1.8044,  ..., -1.8044, -1.8044, -1.8044],\n",
       "          [-1.8044, -1.8044, -1.8044,  ..., -1.8044, -1.8044, -1.8044],\n",
       "          ...,\n",
       "          [-0.4624, -0.5147, -0.5495,  ..., -0.5670, -0.6018, -0.7936],\n",
       "          [-0.4798, -0.5321, -0.5670,  ..., -0.5495, -0.5844, -0.7238],\n",
       "          [-0.4973, -0.5495, -0.5670,  ..., -0.5670, -0.6193, -0.6715]]]])"
      ]
     },
     "execution_count": 15,
     "metadata": {},
     "output_type": "execute_result"
    }
   ],
   "source": [
    "image_572"
   ]
  },
  {
   "cell_type": "code",
   "execution_count": 16,
   "metadata": {},
   "outputs": [
    {
     "data": {
      "text/plain": [
       "UNet_check(\n",
       "  (down1): Sequential(\n",
       "    (0): Conv2d(3, 64, kernel_size=(3, 3), stride=(1, 1))\n",
       "    (1): ReLU()\n",
       "    (2): BatchNorm2d(64, eps=1e-05, momentum=0.1, affine=True, track_running_stats=True)\n",
       "    (3): Conv2d(64, 64, kernel_size=(3, 3), stride=(1, 1))\n",
       "    (4): ReLU()\n",
       "    (5): BatchNorm2d(64, eps=1e-05, momentum=0.1, affine=True, track_running_stats=True)\n",
       "  )\n",
       "  (down2): Sequential(\n",
       "    (0): Conv2d(64, 128, kernel_size=(3, 3), stride=(1, 1))\n",
       "    (1): ReLU()\n",
       "    (2): BatchNorm2d(128, eps=1e-05, momentum=0.1, affine=True, track_running_stats=True)\n",
       "    (3): Conv2d(128, 128, kernel_size=(3, 3), stride=(1, 1))\n",
       "    (4): ReLU()\n",
       "    (5): BatchNorm2d(128, eps=1e-05, momentum=0.1, affine=True, track_running_stats=True)\n",
       "  )\n",
       "  (down3): Sequential(\n",
       "    (0): Conv2d(128, 256, kernel_size=(3, 3), stride=(1, 1))\n",
       "    (1): ReLU()\n",
       "    (2): BatchNorm2d(256, eps=1e-05, momentum=0.1, affine=True, track_running_stats=True)\n",
       "    (3): Conv2d(256, 256, kernel_size=(3, 3), stride=(1, 1))\n",
       "    (4): ReLU()\n",
       "    (5): BatchNorm2d(256, eps=1e-05, momentum=0.1, affine=True, track_running_stats=True)\n",
       "  )\n",
       "  (down4): Sequential(\n",
       "    (0): Conv2d(256, 512, kernel_size=(3, 3), stride=(1, 1))\n",
       "    (1): ReLU()\n",
       "    (2): BatchNorm2d(512, eps=1e-05, momentum=0.1, affine=True, track_running_stats=True)\n",
       "    (3): Conv2d(512, 512, kernel_size=(3, 3), stride=(1, 1))\n",
       "    (4): ReLU()\n",
       "    (5): BatchNorm2d(512, eps=1e-05, momentum=0.1, affine=True, track_running_stats=True)\n",
       "  )\n",
       "  (down5): Sequential(\n",
       "    (0): Conv2d(512, 1024, kernel_size=(3, 3), stride=(1, 1))\n",
       "    (1): ReLU()\n",
       "    (2): BatchNorm2d(1024, eps=1e-05, momentum=0.1, affine=True, track_running_stats=True)\n",
       "    (3): Conv2d(1024, 1024, kernel_size=(3, 3), stride=(1, 1))\n",
       "    (4): ReLU()\n",
       "    (5): BatchNorm2d(1024, eps=1e-05, momentum=0.1, affine=True, track_running_stats=True)\n",
       "  )\n",
       "  (up4_x): ConvTranspose2d(1024, 512, kernel_size=(2, 2), stride=(2, 2))\n",
       "  (up4): Sequential(\n",
       "    (0): Conv2d(1024, 512, kernel_size=(3, 3), stride=(1, 1))\n",
       "    (1): ReLU()\n",
       "    (2): BatchNorm2d(512, eps=1e-05, momentum=0.1, affine=True, track_running_stats=True)\n",
       "    (3): Conv2d(512, 512, kernel_size=(3, 3), stride=(1, 1))\n",
       "    (4): ReLU()\n",
       "    (5): BatchNorm2d(512, eps=1e-05, momentum=0.1, affine=True, track_running_stats=True)\n",
       "  )\n",
       "  (up3_x): ConvTranspose2d(512, 256, kernel_size=(2, 2), stride=(2, 2))\n",
       "  (up3): Sequential(\n",
       "    (0): Conv2d(512, 256, kernel_size=(3, 3), stride=(1, 1))\n",
       "    (1): ReLU()\n",
       "    (2): BatchNorm2d(256, eps=1e-05, momentum=0.1, affine=True, track_running_stats=True)\n",
       "    (3): Conv2d(256, 256, kernel_size=(3, 3), stride=(1, 1))\n",
       "    (4): ReLU()\n",
       "    (5): BatchNorm2d(256, eps=1e-05, momentum=0.1, affine=True, track_running_stats=True)\n",
       "  )\n",
       "  (up2_x): ConvTranspose2d(256, 128, kernel_size=(2, 2), stride=(2, 2))\n",
       "  (up2): Sequential(\n",
       "    (0): Conv2d(256, 128, kernel_size=(3, 3), stride=(1, 1))\n",
       "    (1): ReLU()\n",
       "    (2): BatchNorm2d(128, eps=1e-05, momentum=0.1, affine=True, track_running_stats=True)\n",
       "    (3): Conv2d(128, 128, kernel_size=(3, 3), stride=(1, 1))\n",
       "    (4): ReLU()\n",
       "    (5): BatchNorm2d(128, eps=1e-05, momentum=0.1, affine=True, track_running_stats=True)\n",
       "  )\n",
       "  (up1_x): ConvTranspose2d(128, 64, kernel_size=(2, 2), stride=(2, 2))\n",
       "  (up1): Sequential(\n",
       "    (0): Conv2d(128, 64, kernel_size=(3, 3), stride=(1, 1))\n",
       "    (1): ReLU()\n",
       "    (2): BatchNorm2d(64, eps=1e-05, momentum=0.1, affine=True, track_running_stats=True)\n",
       "    (3): Conv2d(64, 64, kernel_size=(3, 3), stride=(1, 1))\n",
       "    (4): ReLU()\n",
       "    (5): BatchNorm2d(64, eps=1e-05, momentum=0.1, affine=True, track_running_stats=True)\n",
       "  )\n",
       "  (last): Conv2d(64, 2, kernel_size=(1, 1), stride=(1, 1))\n",
       ")"
      ]
     },
     "execution_count": 16,
     "metadata": {},
     "output_type": "execute_result"
    }
   ],
   "source": [
    "model"
   ]
  },
  {
   "cell_type": "code",
   "execution_count": null,
   "metadata": {},
   "outputs": [],
   "source": []
  },
  {
   "cell_type": "code",
   "execution_count": null,
   "metadata": {},
   "outputs": [],
   "source": []
  },
  {
   "cell_type": "code",
   "execution_count": null,
   "metadata": {},
   "outputs": [],
   "source": []
  },
  {
   "cell_type": "code",
   "execution_count": null,
   "metadata": {},
   "outputs": [],
   "source": [
    "in_channels=1\n",
    "n_classes=2\n",
    "batch_norm=False\n",
    "padding = False\n",
    "up_mode='upconv'\n",
    "wf = 6\n",
    "depth = 5\n",
    "prev_channels = 3\n",
    "down_path = nn.ModuleList()\n",
    "for i in range(depth):\n",
    "    down_path.append(UNetConvBlock(prev_channels, 2**(wf+i), padding, batch_norm))\n",
    "    prev_channels = 2**(wf+i)\n",
    "\n",
    "up_path = nn.ModuleList()\n",
    "for i in reversed(range(depth - 1)):\n",
    "    up_path.append(UNetUpBlock(prev_channels, 2**(wf+i), up_mode, padding, batch_norm))\n",
    "    prev_channels = 2**(wf+i)\n",
    "\n",
    "last = nn.Conv2d(prev_channels, n_classes, kernel_size=1)"
   ]
  },
  {
   "cell_type": "code",
   "execution_count": null,
   "metadata": {},
   "outputs": [],
   "source": []
  },
  {
   "cell_type": "code",
   "execution_count": null,
   "metadata": {},
   "outputs": [],
   "source": [
    "x = image\n",
    "\n",
    "blocks = []\n",
    "for i, down in enumerate(down_path):\n",
    "    x = down(x)\n",
    "    print(x.size())\n",
    "    if i != len(down_path)-1:\n",
    "        blocks.append(x)\n",
    "        x = F.avg_pool2d(x, 2)"
   ]
  },
  {
   "cell_type": "code",
   "execution_count": null,
   "metadata": {},
   "outputs": [],
   "source": [
    "x.size()"
   ]
  },
  {
   "cell_type": "code",
   "execution_count": null,
   "metadata": {},
   "outputs": [],
   "source": []
  },
  {
   "cell_type": "code",
   "execution_count": null,
   "metadata": {},
   "outputs": [],
   "source": []
  },
  {
   "cell_type": "code",
   "execution_count": null,
   "metadata": {},
   "outputs": [],
   "source": []
  },
  {
   "cell_type": "code",
   "execution_count": null,
   "metadata": {},
   "outputs": [],
   "source": []
  },
  {
   "cell_type": "code",
   "execution_count": null,
   "metadata": {},
   "outputs": [],
   "source": []
  },
  {
   "cell_type": "code",
   "execution_count": null,
   "metadata": {},
   "outputs": [],
   "source": []
  },
  {
   "cell_type": "code",
   "execution_count": 1,
   "metadata": {},
   "outputs": [],
   "source": [
    "import numpy as np\n",
    "import torch\n",
    "import os\n",
    "import pickle\n",
    "import matplotlib.pyplot as plt\n",
    "# %matplotlib inline\n",
    "# plt.rcParams['figure.figsize'] = (20, 20)\n",
    "# plt.rcParams['image.interpolation'] = 'bilinear'\n",
    "\n",
    "from argparse import ArgumentParser\n",
    "\n",
    "from torch.optim import SGD, Adam\n",
    "from torch.autograd import Variable\n",
    "from torch.utils.data import DataLoader, Dataset\n",
    "from torchvision.transforms import Normalize\n",
    "from torchvision.transforms import ToTensor, ToPILImage\n",
    "import torchvision\n",
    "import torchvision.transforms as T\n",
    "import torch.nn.functional as F\n",
    "import torch.nn as nn\n",
    "from torch.optim import lr_scheduler\n",
    "\n",
    "import collections\n",
    "import numbers\n",
    "import random\n",
    "import math\n",
    "from PIL import Image, ImageOps, ImageEnhance"
   ]
  },
  {
   "cell_type": "code",
   "execution_count": 2,
   "metadata": {},
   "outputs": [],
   "source": [
    "image_path = '../../data/images_flip/train/'\n",
    "mask_path = '../../data/images_flip/train_masks/'"
   ]
  },
  {
   "cell_type": "code",
   "execution_count": 3,
   "metadata": {},
   "outputs": [],
   "source": [
    "with open('../../data/train_shuffle_names.pk', 'rb') as f:\n",
    "    filenames = pickle.load(f)"
   ]
  },
  {
   "cell_type": "code",
   "execution_count": 4,
   "metadata": {},
   "outputs": [],
   "source": [
    "class RandomCrop(object):\n",
    "    def __init__(self, crop_size=512):\n",
    "        self.crop_size = crop_size\n",
    "\n",
    "    def __call__(self, img_and_label):\n",
    "        img, label = img_and_label\n",
    "        w, h = img.size\n",
    "        \n",
    "#         xmin = min_random(w)\n",
    "#         ymin = min_random(h)\n",
    "        xmin = random.randint(0, w - self.crop_size)\n",
    "        ymin = random.randint(0, h - self.crop_size)\n",
    "        \n",
    "        img = img.crop((xmin, ymin, xmin+self.crop_size, ymin+self.crop_size))\n",
    "        label = label.crop((xmin, ymin, xmin+self.crop_size, ymin+self.crop_size))\n",
    "        \n",
    "        return img, label\n",
    "\n",
    "class RandomCrop_different_size_for_image_and_label(object):\n",
    "    def __init__(self, image_size=572, label_size=388):\n",
    "        self.image_size = image_size\n",
    "        self.label_size = label_size\n",
    "        self.bound = (self.image_size - self.label_size) // 2\n",
    "\n",
    "    def __call__(self, img_and_label):\n",
    "        img, label = img_and_label\n",
    "        w, h = img.size\n",
    "        \n",
    "        xcenter = random.randint(self.label_size // 2, w - self.label_size // 2)\n",
    "        ycenter = random.randint(self.label_size // 2, h - self.label_size // 2)\n",
    "        \n",
    "        img = img.crop((xcenter - self.image_size // 2, ycenter - self.image_size // 2, xcenter + self.image_size // 2, ycenter + self.image_size // 2))\n",
    "        label = label.crop((xcenter - self.label_size // 2, ycenter - self.label_size // 2, xcenter + self.label_size // 2, ycenter + self.label_size // 2))\n",
    "        \n",
    "        return img, label\n",
    "class ToTensor_Label(object):\n",
    "    def __call__(self, img_and_label):\n",
    "        img, label = img_and_label\n",
    "        img_tensor = ToTensor()(img)\n",
    "        label_tensor = torch.from_numpy(np.array(label)).long().unsqueeze(0)\n",
    "        return img_tensor, label_tensor\n",
    "\n",
    "class ImageNormalize(object):\n",
    "    def __init__(self, mean, std):\n",
    "        self.mean = mean\n",
    "        self.std = std\n",
    "    def __call__(self, img_and_label):\n",
    "        img_tensor, label_tensor = img_and_label\n",
    "        for t, m, s in zip(img_tensor, self.mean, self.std):\n",
    "            t.sub_(m).div_(s)\n",
    "        return img_tensor, label_tensor\n",
    "    \n",
    "class Compose(object):\n",
    "    def __init__(self, transforms):\n",
    "        self.transforms = transforms\n",
    "\n",
    "    def __call__(self, x):\n",
    "        for transform in self.transforms:\n",
    "            x = transform(x)\n",
    "        return x"
   ]
  },
  {
   "cell_type": "code",
   "execution_count": 11,
   "metadata": {},
   "outputs": [],
   "source": [
    "crop_512 = RandomCrop(512)\n",
    "crop_572 = RandomCrop_different_size_for_image_and_label(image_size=572, label_size=388)\n",
    "to_tensor_label = ToTensor_Label()\n",
    "normalize = ImageNormalize([.485, .456, .406], [.229, .224, .225])\n",
    "transforms = Compose([crop_572, to_tensor_label, normalize])\n",
    "transforms_512 = Compose([crop_512, to_tensor_label, normalize])"
   ]
  },
  {
   "cell_type": "code",
   "execution_count": 12,
   "metadata": {},
   "outputs": [],
   "source": [
    "filename_img = filenames[5]\n",
    "filename_mask = os.path.splitext(filename_img)[0]+'.png'\n",
    "\n",
    "with open(os.path.join(image_path, filename_img), 'rb') as f:\n",
    "    image = Image.open(f).convert('RGB')\n",
    "with open(os.path.join(mask_path, filename_mask), 'rb') as f:\n",
    "    label = Image.open(f).convert('P')\n",
    "\n",
    "[image_572, label_388] = transforms([image, label])\n",
    "[image_512, label_512] = transforms_512([image, label])\n",
    "image_572 = image_572.unsqueeze(0)\n",
    "image_512 = image_512.unsqueeze(0)"
   ]
  },
  {
   "cell_type": "code",
   "execution_count": 5,
   "metadata": {},
   "outputs": [],
   "source": [
    "filename_img = filenames[5]\n",
    "filename_mask = os.path.splitext(filename_img)[0]+'.png'\n",
    "\n",
    "with open(os.path.join(image_path, filename_img), 'rb') as f:\n",
    "    image = Image.open(f).convert('RGB')"
   ]
  },
  {
   "cell_type": "code",
   "execution_count": 7,
   "metadata": {},
   "outputs": [
    {
     "data": {
      "text/plain": [
       "(1918, 1280)"
      ]
     },
     "execution_count": 7,
     "metadata": {},
     "output_type": "execute_result"
    }
   ],
   "source": [
    "image.size"
   ]
  },
  {
   "cell_type": "code",
   "execution_count": null,
   "metadata": {},
   "outputs": [],
   "source": []
  }
 ],
 "metadata": {
  "kernelspec": {
   "display_name": "Python 3",
   "language": "python",
   "name": "python3"
  },
  "language_info": {
   "codemirror_mode": {
    "name": "ipython",
    "version": 3
   },
   "file_extension": ".py",
   "mimetype": "text/x-python",
   "name": "python",
   "nbconvert_exporter": "python",
   "pygments_lexer": "ipython3",
   "version": "3.5.2"
  }
 },
 "nbformat": 4,
 "nbformat_minor": 2
}
