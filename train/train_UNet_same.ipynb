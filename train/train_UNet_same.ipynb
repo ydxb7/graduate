{
 "cells": [
  {
   "cell_type": "code",
   "execution_count": null,
   "metadata": {},
   "outputs": [],
   "source": [
    "import numpy as np\n",
    "import torch\n",
    "import os\n",
    "import pickle\n",
    "import matplotlib.pyplot as plt\n",
    "# %matplotlib inline\n",
    "# plt.rcParams['figure.figsize'] = (20, 20)\n",
    "# plt.rcParams['image.interpolation'] = 'bilinear'\n",
    "\n",
    "from argparse import ArgumentParser\n",
    "\n",
    "from torch.optim import SGD, Adam\n",
    "from torch.autograd import Variable\n",
    "from torch.utils.data import DataLoader, Dataset\n",
    "from torchvision.transforms import Normalize\n",
    "from torchvision.transforms import ToTensor, ToPILImage\n",
    "import torchvision\n",
    "import torchvision.transforms as T\n",
    "import torch.nn.functional as F\n",
    "import torch.nn as nn\n",
    "from torch.optim import lr_scheduler\n",
    "from networks.UNet_standard import UNet\n",
    "\n",
    "import collections\n",
    "import numbers\n",
    "import random\n",
    "import math\n",
    "from PIL import Image, ImageOps, ImageEnhance\n",
    "import logging\n",
    "import time\n",
    "import tool\n",
    "# import bcolz"
   ]
  },
  {
   "cell_type": "code",
   "execution_count": null,
   "metadata": {},
   "outputs": [],
   "source": [
    "CROSS_VALIDATION_FOLD = 0 # 0-4\n",
    "SEED = CROSS_VALIDATION_FOLD * 100\n",
    "NUM_CHANNELS = 3\n",
    "NUM_CLASSES = 2 \n",
    "model_name = 'UNet_same'\n",
    "log_path = 'log/'\n",
    "save_weights_path = '../_weights/'\n",
    "if not os.path.exists(save_weights_path):\n",
    "    os.makedirs(save_weights_path)\n",
    "if not os.path.exists(log_path):\n",
    "    os.makedirs(log_path)"
   ]
  },
  {
   "cell_type": "code",
   "execution_count": null,
   "metadata": {},
   "outputs": [],
   "source": [
    "log_filename = log_path + model_name + '-fold'+str(CROSS_VALIDATION_FOLD)+'.log'\n",
    "logging.basicConfig(filename=log_filename, level=logging.INFO, \n",
    "                   format='%(asctime)s:%(levelname)s:%(message)s')\n",
    "def log(message):\n",
    "    print(message)\n",
    "    logging.info(message)"
   ]
  },
  {
   "cell_type": "code",
   "execution_count": null,
   "metadata": {},
   "outputs": [],
   "source": [
    "log('='*50 + 'start run' + '='*50)"
   ]
  },
  {
   "cell_type": "markdown",
   "metadata": {},
   "source": [
    "## dataset"
   ]
  },
  {
   "cell_type": "code",
   "execution_count": null,
   "metadata": {},
   "outputs": [],
   "source": [
    "# NUM_CHANNELS = 3\n",
    "# NUM_CLASSES = 2 # car is 1, background is 0\n",
    "\n",
    "# color_transform = Colorize(n=NUM_CLASSES)\n",
    "# image_transform = ToPILImage()"
   ]
  },
  {
   "cell_type": "code",
   "execution_count": null,
   "metadata": {},
   "outputs": [],
   "source": [
    "# random_rotate = tool.Random_Rotate_Crop(maxAngle = 10)\n",
    "# crop = tool.Random_Rotate_Crop(maxAngle = 0)\n",
    "crop_512 = tool.RandomCrop(crop_size = 512)\n",
    "random_color = tool.RandomColor()\n",
    "to_tensor_label = tool.ToTensor_Label()\n",
    "normalize = tool.ImageNormalize([.485, .456, .406], [.229, .224, .225])\n",
    "# train_transforms = tool.Compose([crop_512, random_color, to_tensor_label, normalize])\n",
    "train_transforms = tool.Compose([crop_512, to_tensor_label, normalize])\n",
    "val_transforms = tool.Compose([crop_512, to_tensor_label, normalize])"
   ]
  },
  {
   "cell_type": "code",
   "execution_count": null,
   "metadata": {},
   "outputs": [],
   "source": [
    "image_path = '../../data/images/train/'\n",
    "mask_path = '../../data/images/train_masks/'"
   ]
  },
  {
   "cell_type": "code",
   "execution_count": null,
   "metadata": {},
   "outputs": [],
   "source": [
    "with open('./train_shuffle_names.pk', 'rb') as f:\n",
    "    filenames = pickle.load(f)"
   ]
  },
  {
   "cell_type": "code",
   "execution_count": null,
   "metadata": {},
   "outputs": [],
   "source": [
    "fold_num = len(filenames) // 5\n",
    "folds = []\n",
    "for i in range(5):\n",
    "    if i == 4:\n",
    "        folds.append(filenames[i * fold_num :])\n",
    "    else:\n",
    "        folds.append(filenames[i * fold_num : (i + 1) * fold_num])\n",
    "\n",
    "train_filenames = []\n",
    "for i in range(5):\n",
    "    if i == CROSS_VALIDATION_FOLD:\n",
    "        val_filenames = folds[i]\n",
    "    else:\n",
    "        train_filenames += folds[i]"
   ]
  },
  {
   "cell_type": "code",
   "execution_count": null,
   "metadata": {},
   "outputs": [],
   "source": [
    "# train_filenames = ['00087a6bd4dc_08.jpg']\n",
    "# train_filenames = train_filenames[:10]\n",
    "# val_filenames = val_filenames[:10]"
   ]
  },
  {
   "cell_type": "code",
   "execution_count": null,
   "metadata": {},
   "outputs": [],
   "source": [
    "train_set = tool.Car_dataset(image_path, mask_path, train_filenames, train_transforms, ifFlip=True) \n",
    "val_set = tool.Car_dataset(image_path, mask_path, val_filenames, val_transforms, ifFlip=True) # for validation set"
   ]
  },
  {
   "cell_type": "code",
   "execution_count": null,
   "metadata": {},
   "outputs": [],
   "source": [
    "train_loader = DataLoader(train_set, num_workers=4, batch_size=4, shuffle=True)\n",
    "val_loader = DataLoader(val_set, num_workers=4, batch_size=1) # for validation set"
   ]
  },
  {
   "cell_type": "markdown",
   "metadata": {},
   "source": [
    "## dataset examples"
   ]
  },
  {
   "cell_type": "code",
   "execution_count": null,
   "metadata": {},
   "outputs": [],
   "source": [
    "# train_loader.batch_size"
   ]
  },
  {
   "cell_type": "code",
   "execution_count": null,
   "metadata": {},
   "outputs": [],
   "source": [
    "# inp, tar = train_loader.__iter__().next()"
   ]
  },
  {
   "cell_type": "code",
   "execution_count": null,
   "metadata": {},
   "outputs": [],
   "source": [
    "# i = 0\n",
    "# inp = Variable(inp)\n",
    "# tar = Variable(tar)\n",
    "# # tar[:, 0]\n",
    "# t = tar[i].cpu().data.numpy()\n",
    "# inpu = inp[i].cpu().data.numpy()"
   ]
  },
  {
   "cell_type": "code",
   "execution_count": null,
   "metadata": {},
   "outputs": [],
   "source": [
    "# img_tensor = inp[i]\n",
    "# for ten, m, s in zip(img_tensor, [.229, .224, .225], [.485, .456, .406]):\n",
    "#     ten.mul_(m).add_(s)\n",
    "# ToPILImage()(img_tensor)"
   ]
  },
  {
   "cell_type": "code",
   "execution_count": null,
   "metadata": {
    "scrolled": false
   },
   "outputs": [],
   "source": [
    "# plt.rcParams['figure.figsize'] = (10, 10)\n",
    "# plt.imshow(t[0])"
   ]
  },
  {
   "cell_type": "markdown",
   "metadata": {},
   "source": [
    "## train define"
   ]
  },
  {
   "cell_type": "code",
   "execution_count": null,
   "metadata": {},
   "outputs": [],
   "source": [
    "def load_model(filename, model, optimizer):\n",
    "    checkpoint = torch.load(filename)\n",
    "    model.load_state_dict(checkpoint['model_state'])\n",
    "    optimizer.load_state_dict(checkpoint['optimizer_state'])\n",
    "    \n",
    "def save_model(filename, model, optimizer):\n",
    "    torch.save({'model_state': model.state_dict(),\n",
    "                'optimizer_state': optimizer.state_dict()}, \n",
    "                filename)"
   ]
  },
  {
   "cell_type": "code",
   "execution_count": null,
   "metadata": {},
   "outputs": [],
   "source": [
    "class CrossEntropyLoss2d(nn.Module):\n",
    "    def __init__(self, weight=None, size_average=True):\n",
    "        super(CrossEntropyLoss2d, self).__init__()\n",
    "        self.loss = nn.NLLLoss(weight, size_average)\n",
    "\n",
    "    def forward(self, outputs, targets):\n",
    "        return self.loss(F.log_softmax(outputs, dim=1), targets)"
   ]
  },
  {
   "cell_type": "code",
   "execution_count": null,
   "metadata": {},
   "outputs": [],
   "source": [
    "def train(epoch, steps_plot=0):\n",
    "    model.train()\n",
    "\n",
    "    weight = torch.ones(NUM_CLASSES)\n",
    "#     weight[1] = 5 # weight of wall is 5\n",
    "\n",
    "    criterion = CrossEntropyLoss2d(weight.cuda()) # loss function\n",
    "\n",
    "    epoch_loss = []\n",
    "    step_loss = []\n",
    "\n",
    "    for step, (images, labels) in enumerate(train_loader):\n",
    "        \n",
    "        images = images.cuda()\n",
    "        labels = labels.cuda()\n",
    "\n",
    "        inputs = Variable(images)\n",
    "        targets = Variable(labels)\n",
    "        outputs = model(inputs)\n",
    "\n",
    "        optimizer.zero_grad()\n",
    "        loss = criterion(outputs, targets[:, 0])\n",
    "        loss.backward()\n",
    "        optimizer.step()\n",
    "\n",
    "        epoch_loss.append(loss.item())\n",
    "        step_loss.append(loss.item())\n",
    "        \n",
    "        if step % 10 == 0:\n",
    "            average_step_loss = sum(step_loss) / len(step_loss)\n",
    "            message = 'Epoch[{}]({}/{}): \\tloss: {:.4}'.format(epoch, step, len(train_loader), average_step_loss)\n",
    "            log(message)\n",
    "            step_loss = []\n",
    "    average = sum(epoch_loss) / len(epoch_loss)\n",
    "    message = 'Train: Epoch[{}] \\taverage loss: {:.4}'.format(epoch, average)\n",
    "    log(message)"
   ]
  },
  {
   "cell_type": "code",
   "execution_count": null,
   "metadata": {},
   "outputs": [],
   "source": [
    "def test(steps_plot = 0):\n",
    "    model.eval()\n",
    "\n",
    "    weight = torch.ones(NUM_CLASSES)\n",
    "#     weight[1] = 5 # weight of wall is 5\n",
    "\n",
    "    criterion = CrossEntropyLoss2d(weight.cuda())\n",
    "\n",
    "#     for epoch in range(start_epoch, end_epochs+1):\n",
    "    total_loss = []\n",
    "\n",
    "    for step, (images, labels) in enumerate(val_loader):\n",
    "\n",
    "        images = images.cuda()\n",
    "        labels = labels.cuda()\n",
    "\n",
    "        inputs = Variable(images)\n",
    "        targets = Variable(labels)\n",
    "        outputs = model(inputs)\n",
    "\n",
    "        loss = criterion(outputs, targets[:, 0])\n",
    "\n",
    "        total_loss.append(loss.item())\n",
    "\n",
    "    average = sum(total_loss) / len(total_loss)\n",
    "    message = 'Validation: \\taverage loss: {:.4}'.format(average)\n",
    "    log(message)\n",
    "    return average"
   ]
  },
  {
   "cell_type": "markdown",
   "metadata": {},
   "source": [
    "## train\n"
   ]
  },
  {
   "cell_type": "code",
   "execution_count": null,
   "metadata": {},
   "outputs": [],
   "source": [
    "torch.cuda.manual_seed_all(SEED)\n",
    "model = UNet(in_channels=NUM_CHANNELS, n_classes=NUM_CLASSES, padding=True)\n",
    "model = model.cuda()\n",
    "optimizer = Adam(model.parameters(), lr = 1e-3)"
   ]
  },
  {
   "cell_type": "code",
   "execution_count": null,
   "metadata": {},
   "outputs": [],
   "source": []
  },
  {
   "cell_type": "code",
   "execution_count": null,
   "metadata": {
    "scrolled": true
   },
   "outputs": [],
   "source": [
    "scheduler = lr_scheduler.StepLR(optimizer, step_size=40, gamma=0.5)\n",
    "val_losses = []\n",
    "start_time = time.time()\n",
    "epoch_num = 250\n",
    "for epoch in range(epoch_num):\n",
    "    scheduler.step(epoch)\n",
    "    message = 'learning rate: ' + str(scheduler.get_lr()[0])\n",
    "    log(message)\n",
    "    train(epoch)\n",
    "    log('-'*100)\n",
    "    \n",
    "    if epoch == 0:\n",
    "        t1 = time.time()\n",
    "        message = 'one epoch time: ' + str(t1 - start_time) + 's'\n",
    "        log(message)\n",
    "        log('-'*100)\n",
    "        \n",
    "    val_loss = test()\n",
    "    log('-'*100)\n",
    "    \n",
    "    val_losses.append(val_loss)\n",
    "    if val_loss == min(val_losses) and epoch >= 100:\n",
    "        save_file_name = save_weights_path+model_name+'-fold'+str(CROSS_VALIDATION_FOLD)+'-%.5f' % val_loss+'.pth'\n",
    "        save_model(save_file_name, model, optimizer)\n",
    "    \n",
    "end_time = time.time()\n",
    "total_time = end_time - start_time\n",
    "average_time = total_time / epoch_num\n",
    "message = 'total_time: ' + str(total_time) + 's' + '\\t\\taverage_time: ' + str(average_time) + 's'\n",
    "log(message)"
   ]
  },
  {
   "cell_type": "code",
   "execution_count": null,
   "metadata": {},
   "outputs": [],
   "source": [
    "save_file_name = save_weights_path+model_name+'-fold'+str(CROSS_VALIDATION_FOLD)+'-end.pth'\n",
    "save_model(save_file_name, model, optimizer)"
   ]
  }
 ],
 "metadata": {
  "kernelspec": {
   "display_name": "Python 2",
   "language": "python",
   "name": "python2"
  },
  "language_info": {
   "codemirror_mode": {
    "name": "ipython",
    "version": 3
   },
   "file_extension": ".py",
   "mimetype": "text/x-python",
   "name": "python",
   "nbconvert_exporter": "python",
   "pygments_lexer": "ipython3",
   "version": "3.5.2"
  }
 },
 "nbformat": 4,
 "nbformat_minor": 2
}
