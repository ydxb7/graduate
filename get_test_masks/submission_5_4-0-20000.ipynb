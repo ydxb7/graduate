{
 "cells": [
  {
   "cell_type": "code",
   "execution_count": 1,
   "metadata": {},
   "outputs": [],
   "source": [
    "import numpy as np\n",
    "import torch\n",
    "import os\n",
    "import pickle\n",
    "import matplotlib.pyplot as plt\n",
    "%matplotlib inline\n",
    "plt.rcParams['figure.figsize'] = (20, 20)\n",
    "plt.rcParams['image.interpolation'] = 'bilinear'\n",
    "\n",
    "from PIL import Image\n",
    "from argparse import ArgumentParser\n",
    "\n",
    "from torch.optim import SGD, Adam\n",
    "from torch.autograd import Variable\n",
    "from torch.utils.data import DataLoader, Dataset\n",
    "from torchvision.transforms import Normalize\n",
    "from torchvision.transforms import ToTensor, ToPILImage, Normalize\n",
    "import torchvision\n",
    "import torchvision.transforms as F\n",
    "\n",
    "# from piwise.dataset import VOC12\n",
    "# from piwise.network import FCN8, FCN16, FCN32, UNet, PSPNet, SegNet\n",
    "# from network_SegNet_drop_out import SegNet\n",
    "from network_SegNet_U import SegNet_U\n",
    "from piwise.criterion import CrossEntropyLoss2d\n",
    "from piwise.transform import Relabel, ToLabel, Colorize\n",
    "# from piwise.dataset import *\n",
    "# from piwise.visualize import Dashboard\n",
    "\n",
    "import collections\n",
    "import numbers\n",
    "import random\n",
    "import math\n",
    "from PIL import Image, ImageOps, ImageEnhance\n",
    "from submission_5 import *\n",
    "import pandas as pd"
   ]
  },
  {
   "cell_type": "code",
   "execution_count": 2,
   "metadata": {},
   "outputs": [],
   "source": [
    "transform_512 = F.Compose([\n",
    "        ToTensor(),\n",
    "        Normalize([.485, .456, .406], [.229, .224, .225]),\n",
    "    ])"
   ]
  },
  {
   "cell_type": "code",
   "execution_count": 3,
   "metadata": {},
   "outputs": [],
   "source": [
    "model = SegNet_U(2)\n",
    "model = model.cuda()\n",
    "model.load_state_dict(torch.load('SegNet_5_U-0.00528.pth'))"
   ]
  },
  {
   "cell_type": "code",
   "execution_count": 4,
   "metadata": {},
   "outputs": [],
   "source": [
    "test_image_path = '../../../data/original_data/test/'\n",
    "test_image_names = os.listdir(test_image_path)\n",
    "test_image_names.sort()\n",
    "submission_4_mask_path = '../../submission_4/mask_image/'\n",
    "submission_4_mask_names = os.listdir(submission_4_mask_path)\n",
    "submission_4_mask_names.sort()\n",
    "output_image_path = 'test_masks_4/'"
   ]
  },
  {
   "cell_type": "code",
   "execution_count": 5,
   "metadata": {},
   "outputs": [
    {
     "name": "stdout",
     "output_type": "stream",
     "text": [
      "0\n",
      "--> write csv ------------------------------ csv/submission_5_4-0-20000-0.csv 0\n",
      "1\n",
      "2\n",
      "3\n",
      "4\n",
      "5\n",
      "6\n",
      "7\n",
      "8\n",
      "9\n",
      "10\n",
      "11\n",
      "12\n",
      "13\n",
      "14\n",
      "15\n"
     ]
    }
   ],
   "source": [
    "getCsv(test_image_path, submission_4_mask_path, output_image_path, model, transform_512, \n",
    "       'csv/submission_5_4-0-20000', 0, 16)"
   ]
  },
  {
   "cell_type": "code",
   "execution_count": null,
   "metadata": {},
   "outputs": [],
   "source": []
  }
 ],
 "metadata": {
  "kernelspec": {
   "display_name": "Python 3",
   "language": "python",
   "name": "python3"
  },
  "language_info": {
   "codemirror_mode": {
    "name": "ipython",
    "version": 3
   },
   "file_extension": ".py",
   "mimetype": "text/x-python",
   "name": "python",
   "nbconvert_exporter": "python",
   "pygments_lexer": "ipython3",
   "version": "3.5.2"
  }
 },
 "nbformat": 4,
 "nbformat_minor": 2
}
